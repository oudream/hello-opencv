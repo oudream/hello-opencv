{
 "cells": [
  {
   "cell_type": "code",
   "execution_count": null,
   "metadata": {
    "code_folding": []
   },
   "outputs": [],
   "source": [
    "import cv2\n",
    "\n",
    "image = cv2.imread(\"/opt/limi/hello-opencv/build/deploy/images/switch1.jpeg\", 0)\n",
    "origin = cv2.imread(\"/opt/limi/hello-opencv/build/deploy/images/switch1.jpeg\")\n",
    "#构造5×5的结构元素，分别为十字形、菱形、方形和X型\n",
    "cross = cv2.getStructuringElement(cv2.MORPH_CROSS,(5, 5))\n",
    "#菱形结构元素的定义稍麻烦一些\n",
    "diamond = cv2.getStructuringElement(cv2.MORPH_RECT,(5, 5))\n",
    "diamond[0, 0] = 0\n",
    "diamond[0, 1] = 0\n",
    "diamond[1, 0] = 0\n",
    "diamond[4, 4] = 0\n",
    "diamond[4, 3] = 0\n",
    "diamond[3, 4] = 0\n",
    "diamond[4, 0] = 0\n",
    "diamond[4, 1] = 0\n",
    "diamond[3, 0] = 0\n",
    "diamond[0, 3] = 0\n",
    "diamond[0, 4] = 0\n",
    "diamond[1, 4] = 0\n",
    "square = cv2.getStructuringElement(cv2.MORPH_RECT,(5, 5))\n",
    "x = cv2.getStructuringElement(cv2.MORPH_CROSS,(5, 5))\n",
    "#使用cross膨胀图像\n",
    "result1 = cv2.dilate(image,cross)\n",
    "#使用菱形腐蚀图像\n",
    "result1 = cv2.erode(result1, diamond)\n",
    "\n",
    "#使用X膨胀原图像 \n",
    "result2 = cv2.dilate(image, x)\n",
    "#使用方形腐蚀图像 \n",
    "result2 = cv2.erode(result2,square)\n",
    "\n",
    "#result = result1.copy()\n",
    "#将两幅闭运算的图像相减获得角 \n",
    "result = cv2.absdiff(result2, result1)\n",
    "#使用阈值获得二值图\n",
    "retval, result = cv2.threshold(result, 40, 255, cv2.THRESH_BINARY)\n",
    "\n",
    "#在原图上用半径为5的圆圈将点标出。\n",
    "for j in range(result.size):\n",
    "    y = int(j / result.shape[0])\n",
    "    x = j % result.shape[0] \n",
    "    if result[x, y] == 255:\n",
    "        cv2.circle(image, (y, x), 5, (255,0,0))\n",
    "\n",
    "cv2.imshow(\"Result\", image)\n",
    "cv2.waitKey(0)\n",
    "cv2.destroyAllWindows()"
   ]
  },
  {
   "cell_type": "code",
   "execution_count": null,
   "metadata": {},
   "outputs": [],
   "source": []
  }
 ],
 "metadata": {
  "kernelspec": {
   "display_name": "Python 3",
   "language": "python",
   "name": "python3"
  },
  "language_info": {
   "codemirror_mode": {
    "name": "ipython",
    "version": 3
   },
   "file_extension": ".py",
   "mimetype": "text/x-python",
   "name": "python",
   "nbconvert_exporter": "python",
   "pygments_lexer": "ipython3",
   "version": "3.7.3"
  }
 },
 "nbformat": 4,
 "nbformat_minor": 2
}
